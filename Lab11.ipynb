{
  "nbformat": 4,
  "nbformat_minor": 0,
  "metadata": {
    "colab": {
      "provenance": [],
      "include_colab_link": true
    },
    "kernelspec": {
      "name": "python3",
      "display_name": "Python 3"
    },
    "language_info": {
      "name": "python"
    }
  },
  "cells": [
    {
      "cell_type": "markdown",
      "metadata": {
        "id": "view-in-github",
        "colab_type": "text"
      },
      "source": [
        "<a href=\"https://colab.research.google.com/github/spencerlarsen/Computational-Methods/blob/main/Lab11.ipynb\" target=\"_parent\"><img src=\"https://colab.research.google.com/assets/colab-badge.svg\" alt=\"Open In Colab\"/></a>"
      ]
    },
    {
      "cell_type": "markdown",
      "source": [
        "# LAB 1011\n",
        "\n",
        "Goals:\n",
        "* Understand confidence Intervals\n",
        "* Understand the sampling distribution of the mean"
      ],
      "metadata": {
        "id": "C_V26twiFI_l"
      }
    },
    {
      "cell_type": "code",
      "execution_count": 1,
      "metadata": {
        "id": "07mGBZ9WKo-X"
      },
      "outputs": [],
      "source": [
        "import numpy as np\n",
        "import pandas as pd"
      ]
    },
    {
      "cell_type": "code",
      "source": [
        "from os.path import basename, exists\n",
        "\n",
        "\n",
        "def download(url):\n",
        "    filename = basename(url)\n",
        "    if not exists(filename):\n",
        "        from urllib.request import urlretrieve\n",
        "\n",
        "        local, _ = urlretrieve(url, filename)\n",
        "        print(\"Downloaded \" + local)\n",
        "\n",
        "\n",
        "download(\"https://github.com/AllenDowney/ThinkStats2/raw/master/code/thinkstats2.py\")\n",
        "download(\"https://github.com/AllenDowney/ThinkStats2/raw/master/code/thinkplot.py\")"
      ],
      "metadata": {
        "id": "o43HYxR3X4UH",
        "colab": {
          "base_uri": "https://localhost:8080/"
        },
        "outputId": "08806895-bec7-4a22-854c-fc136a65cc4d"
      },
      "execution_count": 2,
      "outputs": [
        {
          "output_type": "stream",
          "name": "stdout",
          "text": [
            "Downloaded thinkstats2.py\n",
            "Downloaded thinkplot.py\n"
          ]
        }
      ]
    },
    {
      "cell_type": "code",
      "source": [
        "import thinkstats2\n",
        "import thinkplot"
      ],
      "metadata": {
        "id": "aAYId1jtjBKh"
      },
      "execution_count": 3,
      "outputs": []
    },
    {
      "cell_type": "markdown",
      "source": [
        "Read the data"
      ],
      "metadata": {
        "id": "019bowZDKRGO"
      }
    },
    {
      "cell_type": "code",
      "source": [
        "url = 'https://github.com/nusevitch/ME275_BYU/blob/main/ANSUR%20II%20MALE%20Public.csv'\n",
        "\n",
        "url = 'https://raw.githubusercontent.com/nusevitch/ME275_BYU/master/ANSUR%20II%20MALE%20Public.csv'\n",
        "url2 = 'https://raw.githubusercontent.com/nusevitch/ME275_BYU/master/ANSUR%20II%20FEMALE%20Public.csv'\n",
        "dfM = pd.read_csv(url, on_bad_lines='skip', encoding='latin-1')\n",
        "dfF = pd.read_csv(url2, on_bad_lines='skip', encoding='latin-1')"
      ],
      "metadata": {
        "id": "0zj0VGwTixWg"
      },
      "execution_count": 4,
      "outputs": []
    },
    {
      "cell_type": "code",
      "source": [
        "frames = [dfM, dfF]\n",
        "df = pd.concat(frames)\n",
        "df.shape"
      ],
      "metadata": {
        "id": "LMdqVcXli8mw",
        "colab": {
          "base_uri": "https://localhost:8080/"
        },
        "outputId": "9521cd59-15c5-43b3-ec69-ead0ae8ea6dd"
      },
      "execution_count": 5,
      "outputs": [
        {
          "output_type": "execute_result",
          "data": {
            "text/plain": [
              "(6068, 109)"
            ]
          },
          "metadata": {},
          "execution_count": 5
        }
      ]
    },
    {
      "cell_type": "markdown",
      "source": [
        "## Step 1:\n",
        "You are continuing with the design of your prosthetic legs. Your next challenge is to\n",
        "determine how long a prosthetic leg will last during normal use. However, testing the\n",
        "lifetime of a prosthetic device is time consuming and expensive. You can either follow\n",
        "up with customers who have been using the devices for a long period of time in the real\n",
        "world, or you must simulate the use of the device in the lab. To get an initial estimate,\n",
        "**you test the lifetime of 10 prosthetic devices** and they have the following lifetime (in\n",
        "weeks) before failure:\n",
        "```\n",
        "[ 72.45633909, 192.19975958, 208.40998446, 244.54574742, 50.92857124,\n",
        " 40.11636515, 156.45407652, 175.35097276, 171.29292568, 111.4273685 ]\n",
        "```\n",
        "\n",
        "\n",
        "\n",
        "(you can import this data as a numpy array with `data=np.array([…….]`)\n",
        "\n",
        "Use unbiased estimators to estimate the mean and variance (See section 8.2) of the\n",
        "population distribution of device lifetime. For a process like this, we would expect the\n",
        "lifetime of the prosthetic devices to follow a normal distribution."
      ],
      "metadata": {
        "id": "ViQPndNkGUnl"
      }
    },
    {
      "cell_type": "markdown",
      "source": [
        "## Step 2\n",
        "We now have an estimate of the distribution of prosthetic lifetime. Using our best guess\n",
        "at the population mean and variance from step 1, simulate 1000 different sampling\n",
        "processes where you take 10 samples each. Generate a cdf of the estimated mean (the\n",
        "book calls this the sampling distribution of the mean). What is the 90% confidence\n",
        "interval for the mean?\n",
        "\n",
        "You can generate n random data points from a normal distribution with the following\n",
        "function:\n",
        "\n",
        "`np.random.normal(Mean, Standard_Deviation, n)`\n",
        "\n",
        "If you have a cdf of your sampling distribution, you can find the value at a given\n",
        "percentile as follows:\n",
        "\n",
        "`ci = cdf.Percentile(5), cdf.Percentile(95)`"
      ],
      "metadata": {
        "id": "3a4XPW03N2sF"
      }
    },
    {
      "cell_type": "markdown",
      "source": [
        "## Step 3\n",
        "For marketing purposes, you would like to advertise the 50% confidence interval\n",
        "instead of the 90% confidence interval. Compute the 50% confidence interval."
      ],
      "metadata": {
        "id": "jo2pY0NjTcTh"
      }
    },
    {
      "cell_type": "markdown",
      "source": [
        "## Step 4:\n",
        "You can afford to take 10 more samples, with the following results:\n",
        "```\n",
        "[171.34048034, 152.56392009, 186.87956397, 86.6537611, 101.11673969,\n",
        "123.39698855, 170.22741499, 228.24324458, 90.03854739, 147.03716576]\n",
        "```\n",
        "Combine this data with your previous samples and compute the estimated mean,\n",
        "unbiased variance, and the 90% confidence interval. For all 20 samples, what is the\n",
        "estimated mean, variance, and 90% confidence interval for the mean? Generate a cdf of the sampling distribution of the mean, and compare it on the same plot with the cdf\n",
        "of the mean for 10 samples"
      ],
      "metadata": {
        "id": "K6iasF-PWgmi"
      }
    },
    {
      "cell_type": "markdown",
      "source": [
        "## Step 5\n",
        "Deliverables (As a single pdf):\n",
        "\n",
        "• A plot of the two cdfs: one with 10 samples and one with 20. How are they\n",
        "different?\n",
        "\n",
        "• Complete the table at the bottom of this section\n",
        "\n",
        "• A reflection paragraph that answers the following question:\n",
        "\n",
        "* Compare your results to the true distribution of the data: I drew all 20\n",
        "samples randomly from a distribution with mean 156, standard\n",
        "deviation 55. How do your results and confidence intervals compare?\n",
        "* What was the 50% confidence interval with 10 samples? Is it smaller or\n",
        "larger than the 90% confidence interval?\n",
        "* Think of another example of when estimating a population distribution\n",
        "from a sample would be helpful (it can be engineering related or not)\n",
        "\n",
        "![image.png](data:image/png;base64,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)"
      ],
      "metadata": {
        "id": "4HamFRSTggn3"
      }
    }
  ]
}